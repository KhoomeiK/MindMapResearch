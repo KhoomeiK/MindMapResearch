{
  "nbformat": 4,
  "nbformat_minor": 0,
  "metadata": {
    "colab": {
      "name": "Transformer.ipynb",
      "provenance": [],
      "collapsed_sections": [],
      "authorship_tag": "ABX9TyNdYcrhce8D5nRYN025yAXX",
      "include_colab_link": true
    },
    "kernelspec": {
      "name": "python3",
      "display_name": "Python 3"
    }
  },
  "cells": [
    {
      "cell_type": "markdown",
      "metadata": {
        "id": "view-in-github",
        "colab_type": "text"
      },
      "source": [
        "<a href=\"https://colab.research.google.com/github/KhoomeiK/MindMapResearch/blob/transformer/Transformer.ipynb\" target=\"_parent\"><img src=\"https://colab.research.google.com/assets/colab-badge.svg\" alt=\"Open In Colab\"/></a>"
      ]
    },
    {
      "cell_type": "markdown",
      "metadata": {
        "id": "kyLPFYsrUQRg",
        "colab_type": "text"
      },
      "source": [
        "# Data Preparation"
      ]
    },
    {
      "cell_type": "code",
      "metadata": {
        "id": "bAwK5SrR68uy",
        "colab_type": "code",
        "colab": {}
      },
      "source": [
        "# ! pip install -U -q PyDrive\n",
        "import torch\n",
        "from pydrive.auth import GoogleAuth\n",
        "from pydrive.drive import GoogleDrive\n",
        "from google.colab import auth\n",
        "from oauth2client.client import GoogleCredentials\n",
        "\n",
        "SEED = 187\n",
        "\n",
        "torch.manual_seed(SEED)\n",
        "\n",
        "auth.authenticate_user()\n",
        "gauth = GoogleAuth()\n",
        "gauth.credentials = GoogleCredentials.get_application_default()\n",
        "drive = GoogleDrive(gauth)\n",
        "\n",
        "downloaded2 = drive.CreateFile({'id': '1HvZH9ys_ufTF-wcRMNFSKS7lT3pJu6YY'}) \n",
        "downloaded2.GetContentFile('labels.pkl')\n",
        "\n",
        "downloaded = drive.CreateFile({'id': '1BqSv5mgxsyP5rhMoAAKFyvPtAH8XLcO6'}) \n",
        "downloaded.GetContentFile('embeddings.zip')\n",
        "\n",
        "! unzip embeddings.zip"
      ],
      "execution_count": 0,
      "outputs": []
    },
    {
      "cell_type": "code",
      "metadata": {
        "id": "9RV4Z7bqWK5q",
        "colab_type": "code",
        "colab": {}
      },
      "source": [
        "import pickle, os\n",
        "from torch.utils.data import DataLoader, Dataset, random_split\n",
        "\n",
        "\n",
        "class Users(Dataset):\n",
        "    def __init__(self, embedPath, labelPath): \n",
        "        self.users, self.labels = [], []\n",
        "        users = {}\n",
        "        labels = pickle.load(open(labelPath, 'rb'))\n",
        "        file_list = os.listdir(embedPath)\n",
        "\n",
        "        for user in file_list:\n",
        "            users[user[:-4]] = pickle.load(open(\n",
        "                os.path.join(embedPath, user), 'rb'))\n",
        "\n",
        "        intersection = list(set(users.keys()).intersection(set(labels.keys())))\n",
        "        for i in intersection:\n",
        "            userTensor = torch.tensor([users[i]])\n",
        "            if list(userTensor.shape)[1] != 1:\n",
        "                self.users.append(userTensor)\n",
        "                self.labels.append(torch.tensor([labels[i][0]]))\n",
        "\n",
        "        print(len(self), self[0])\n",
        "\n",
        "    def __getitem__(self, i):\n",
        "        return self.users[i], self.labels[i]\n",
        "    \n",
        "    def __len__(self):\n",
        "        assert len(self.users) == len(self.labels)\n",
        "        return len(self.users)\n",
        "\n",
        "train, valid, test = random_split(Users('user_subset', 'labels.pkl'),\n",
        "                                  [4280, 538, 538])"
      ],
      "execution_count": 0,
      "outputs": []
    },
    {
      "cell_type": "markdown",
      "metadata": {
        "id": "CIF1To6iNxQJ",
        "colab_type": "text"
      },
      "source": [
        "# Model\n"
      ]
    },
    {
      "cell_type": "code",
      "metadata": {
        "id": "mz2FevbXNzAw",
        "colab_type": "code",
        "colab": {}
      },
      "source": [
        "import torch\n",
        "import numpy as np\n",
        "import torch.nn as nn\n",
        "import torch.functional as F\n",
        "from sklearn.decomposition import PCA\n",
        "\n",
        "\n",
        "class PCALayer(nn.Module):\n",
        "    def __init__(self, n=256):\n",
        "        super(PCA, self).__init__()\n",
        "        self.n = n\n",
        "        self.pca = PCA(n_components=self.n)\n",
        "\n",
        "    def forward(self, X):\n",
        "        self.pca.fit(X.numpy())\n",
        "        return torch.from_numpy(self.pca.transform(X))\n",
        "\n",
        "\n",
        "class MapNet(nn.Module):\n",
        "    def __init__(self, n=4096):\n",
        "        super(MapNet, self).__init__()\n",
        "        self.fc_1 = nn.Linear(n, int(n ** 0.5))\n",
        "        self.fc_2 = nn.Linear(int(n ** 0.5), 4 * int(n ** 1/2))\n",
        "\n",
        "    def forward(self, X):\n",
        "        output = self.fc_1(X)\n",
        "        output = self.fc_2(output)\n",
        "        return output\n",
        "\n",
        "\n",
        "class CustomMHAttention(nn.Module):\n",
        "    def __init__(self, pca_n=False, n_heads=8):\n",
        "        super(CustomMHAttention, self).__init__()\n",
        "        self.n_heads = n_heads\n",
        "        self.dim_red = MapNet() if not pca_n else PCALayer(pca_n)\n",
        "        self.attn = nn.MultiheadAttention(256, n_heads)\n",
        "        self.fc = nn.Linear(256, 1)\n",
        "\n",
        "    def forward(self, X):\n",
        "        red_output = self.dim_red(X)\n",
        "        output = nn.Dropout(output)\n",
        "        output = self.attn(output, output, output)\n",
        "        output = self.fc(output)\n",
        "        output = F.sigmoid(output)\n"
      ],
      "execution_count": 0,
      "outputs": []
    },
    {
      "cell_type": "markdown",
      "metadata": {
        "id": "Da3XhGE8NzK0",
        "colab_type": "text"
      },
      "source": [
        "# Training"
      ]
    },
    {
      "cell_type": "code",
      "metadata": {
        "id": "5ARRzuS_4mx4",
        "colab_type": "code",
        "colab": {}
      },
      "source": [
        "from tensorflow import summary\n",
        "import datetime\n",
        "%load_ext tensorboard\n",
        "from google.colab import files\n",
        "\n",
        "current_time = str(datetime.datetime.now().timestamp())\n",
        "train_log_dir = '/logs/tensorboard/train/' + current_time\n",
        "test_log_dir = '/logs/tensorboard/test/' + current_time\n",
        "train_summary_writer = summary.create_file_writer(train_log_dir)\n",
        "test_summary_writer = summary.create_file_writer(test_log_dir)\n",
        "\n",
        "%tensorboard --logdir logs/tensorboard"
      ],
      "execution_count": 0,
      "outputs": []
    },
    {
      "cell_type": "code",
      "metadata": {
        "id": "ocrMsdPRN6vA",
        "colab_type": "code",
        "colab": {}
      },
      "source": [
        "device = torch.device('cuda' if torch.cuda.is_available() else 'cpu')\n",
        "epochs = 10\n",
        "lr = 0.001\n",
        "globaliter = 0\n",
        "\n",
        "model = CustomMHAttention().to(device)\n",
        "optimizer = torch.optim.Adam(model.parameters(), lr=lr)\n",
        "criterion = nn.MSELoss()\n",
        "model = model.train()\n",
        "\n",
        "train_losses, valid_losses = [], []\n",
        "\n",
        "for epoch in range(epochs):\n",
        "    print('TRAINING -- EPOCH {}/{}'.format(epoch, epochs))\n",
        "    train_loss, total = 0, 0\n",
        "    for X, Y in train:\n",
        "        X, Y = X.to(device), Y.to(device)\n",
        "        pred = model(X)\n",
        "        loss = criterion(pred, Y)\n",
        "\n",
        "        optimizer.zero_grad()\n",
        "        loss.backward()\n",
        "        optimizer.step()\n",
        "\n",
        "        train_loss += loss.item()\n",
        "        total += 1\n",
        "        \n",
        "        with train_summary_writer.as_default():\n",
        "            tf.summary.scalar('train_loss', loss.item(), step=globaliter)\n",
        "\n",
        "        if total % 300 == 0:\n",
        "            print('X: {:.4f}    y: {:.4f}    y_pred:{:.4f}'.format(pred.item(), Y.item(), loss.item()))\n",
        "\n",
        "    train_losses.append(train_loss / total)\n",
        "    print('EPOCH {}    Train Loss: {:.4f}'.format(epoch, train_losses[-1]))\n",
        "\n",
        "    with torch.no_grad():\n",
        "        print('VALIDATION -- EPOCH {}/{}'.format(epoch, epochs))\n",
        "        valid_loss, valid_total = 0, 0\n",
        "        for X, Y in valid:\n",
        "            X, Y = X.to(device), Y.to(device)\n",
        "            pred = model(X)\n",
        "            loss = criterion(pred, Y)\n",
        "\n",
        "            valid_loss += loss.item()\n",
        "            valid_total += 1\n",
        "            \n",
        "            if total % 100 == 0:\n",
        "                print('X: {:.4f}    y: {:.4f}    y_pred:{:.4f}'.format(pred.item(), Y.item(), loss.item()))\n",
        "\n",
        "            with train_summary_writer.as_default():\n",
        "                tf.summary.scalar('valid_loss', loss.item(), step=globaliter)\n",
        "        \n",
        "        valid_losses.append(valid_loss / valid_total)\n",
        "        print('EPOCH {}    Validation Loss: {:.4f}'.format(epoch, train_losses[-1]))\n",
        "    \n",
        "    globaliter += 1\n",
        "\n",
        "print(train_losses)\n",
        "print(valid_losses)\n",
        "\n",
        "!zip -r /content/logs.zip /content/logs/\n",
        "files.download(\"/content/logs.zip\")"
      ],
      "execution_count": 0,
      "outputs": []
    },
    {
      "cell_type": "markdown",
      "metadata": {
        "id": "lHJEcbSVN2i8",
        "colab_type": "text"
      },
      "source": [
        "# Results and Visualizations"
      ]
    },
    {
      "cell_type": "code",
      "metadata": {
        "id": "Nr78T0A2N7Na",
        "colab_type": "code",
        "colab": {}
      },
      "source": [
        "torch.no_grad()\n",
        "total = 0\n",
        "test_losses = []\n",
        "preds = []\n",
        "\n",
        "for X, Y in test:\n",
        "    X, Y = X.to(device), Y.to(device)\n",
        "    pred = model(X)\n",
        "    loss = criterion(pred, Y)\n",
        "\n",
        "    preds.append(pred)\n",
        "    test_losses.append(loss.item())\n",
        "    total += 1\n",
        "    \n",
        "    if total % 100 == 0:\n",
        "        print('X: {:.4f}    y: {:.4f}    y_pred:{:.4f}'.format(pred.item(), Y.item(), loss.item()))\n",
        "\n",
        "test_loss = sum(test_losses) / total\n",
        "print(test_loss)"
      ],
      "execution_count": 0,
      "outputs": []
    },
    {
      "cell_type": "code",
      "metadata": {
        "id": "kEfERcZeZcYg",
        "colab_type": "code",
        "colab": {}
      },
      "source": [
        "labels = [data[1].item() for data in test]\n",
        "\n",
        "plt.title('Test Data Comparison Plot')\n",
        "plt.xlabel('label')\n",
        "plt.ylabel('pred')\n",
        "plt.scatter(labels, preds, c='#22a6b3')\n",
        "plt.plot(np.unique(labels), np.poly1d(np.polyfit(labels, preds, 1))(np.unique(labels)), color=\"#eb4d4b\")\n",
        "plt.plot(np.unique(labels), np.unique(labels), color=\"#6ab04c\")"
      ],
      "execution_count": 0,
      "outputs": []
    }
  ]
}