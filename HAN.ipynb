{
  "nbformat": 4,
  "nbformat_minor": 0,
  "metadata": {
    "colab": {
      "name": "HAN.ipynb",
      "provenance": [],
      "collapsed_sections": [],
      "authorship_tag": "ABX9TyOZRX0Nwv4+olsiQi3BPJbB",
      "include_colab_link": true
    },
    "kernelspec": {
      "name": "python3",
      "display_name": "Python 3"
    },
    "accelerator": "GPU"
  },
  "cells": [
    {
      "cell_type": "markdown",
      "metadata": {
        "id": "view-in-github",
        "colab_type": "text"
      },
      "source": [
        "<a href=\"https://colab.research.google.com/github/KhoomeiK/MindMapResearch/blob/master/HAN.ipynb\" target=\"_parent\"><img src=\"https://colab.research.google.com/assets/colab-badge.svg\" alt=\"Open In Colab\"/></a>"
      ]
    },
    {
      "cell_type": "markdown",
      "metadata": {
        "id": "IX-Fo7SmKR8j",
        "colab_type": "text"
      },
      "source": [
        "## DATA PREP STUFF"
      ]
    },
    {
      "cell_type": "code",
      "metadata": {
        "id": "erpO2AIcKU68",
        "colab_type": "code",
        "colab": {}
      },
      "source": [
        "# download dataset and labels\n",
        "! pip install -U -q PyDrive\n",
        "\n",
        "from pydrive.auth import GoogleAuth\n",
        "from pydrive.drive import GoogleDrive\n",
        "from google.colab import auth\n",
        "from oauth2client.client import GoogleCredentials\n",
        "\n",
        "auth.authenticate_user()\n",
        "gauth = GoogleAuth()\n",
        "gauth.credentials = GoogleCredentials.get_application_default()\n",
        "drive = GoogleDrive(gauth)\n",
        "\n",
        "downloaded2 = drive.CreateFile({'id': '1HvZH9ys_ufTF-wcRMNFSKS7lT3pJu6YY'}) \n",
        "downloaded2.GetContentFile('labels.pkl')\n",
        "\n",
        "downloaded = drive.CreateFile({'id': '1BqSv5mgxsyP5rhMoAAKFyvPtAH8XLcO6'}) \n",
        "downloaded.GetContentFile('embeddings.zip')\n",
        "\n",
        "! unzip embeddings.zip"
      ],
      "execution_count": 0,
      "outputs": []
    },
    {
      "cell_type": "code",
      "metadata": {
        "id": "ZtLDPaK8Lx1F",
        "colab_type": "code",
        "colab": {}
      },
      "source": [
        "# read dataset into memory\n",
        "from os import listdir\n",
        "from os.path import isfile, join\n",
        "import pandas as pd\n",
        "\n",
        "mypath = 'cse198f_shiv'\n",
        "csvs = [f for f in listdir(mypath) if isfile(join(mypath, f))]\n",
        "print(len(csvs))\n",
        "\n",
        "data = []\n",
        "names = []\n",
        "for csv in csvs:\n",
        "    if csv[-4:] == '.csv':\n",
        "        try:\n",
        "            data.append(pd.read_csv(join(mypath, csv), encoding='CP1252'))\n",
        "            names.append(csv[:-4])\n",
        "        except:\n",
        "            try:\n",
        "                data.append(pd.read_csv(join(mypath, csv), encoding='UTF8'))\n",
        "                names.append(csv[:-4])\n",
        "            except:\n",
        "                continue\n",
        "print(len(data))\n",
        "\n",
        "# pd.reset_option('all')\n",
        "# pd.set_option('display.max_rows', None)\n",
        "# pd.set_option('display.max_columns', None)\n",
        "# pd.set_option('display.width', None)\n",
        "# pd.set_option('display.max_colwidth', -1)"
      ],
      "execution_count": 0,
      "outputs": []
    },
    {
      "cell_type": "code",
      "metadata": {
        "id": "YwXvyU5BKmFt",
        "colab_type": "code",
        "colab": {}
      },
      "source": [
        "# # download embedding tools\n",
        "# ! ls *\n",
        "# ! mkdir fastText\n",
        "# ! curl https://dl.fbaipublicfiles.com/fasttext/vectors-english/crawl-300d-2M.vec.zip > fastText/crawl-300d-2M.vec.zip\n",
        "# ! unzip fastText/crawl-300d-2M.vec.zip -d fastText/\n",
        "# ! mkdir encoder\n",
        "# ! curl -Lo encoder/infersent2.pkl https://dl.fbaipublicfiles.com/infersent/infersent2.pkl\n",
        "# ! curl https://raw.githubusercontent.com/facebookresearch/InferSent/master/models.py > models.py\n",
        "# ! mkdir embeddings"
      ],
      "execution_count": 0,
      "outputs": []
    },
    {
      "cell_type": "code",
      "metadata": {
        "id": "YvD3ckkkZXRJ",
        "colab_type": "code",
        "colab": {}
      },
      "source": [
        "# generate embeddings of dataset\n",
        "import torch, os\n",
        "import numpy as np\n",
        "import tensorflow_hub as hub\n",
        "\n",
        "from absl import logging\n",
        "from models import InferSent\n",
        "\n",
        "import pickle\n",
        "import time\n",
        "\n",
        "MODEL_PATH = 'encoder/infersent2.pkl'\n",
        "W2V_PATH = 'fastText/crawl-300d-2M.vec'\n",
        "\n",
        "def load_infersent_model(model_path=MODEL_PATH, word_embeddings_path=W2V_PATH):\n",
        "\tparams_model = {'bsize': 64, 'word_emb_dim': 300, 'enc_lstm_dim': 2048, 'pool_type': 'max', 'dpout_model': 0.0, 'version': 2}\n",
        "\tinfersent = InferSent(params_model).cuda()\n",
        "\tinfersent.load_state_dict(torch.load(model_path))\n",
        "\tinfersent.set_w2v_path(word_embeddings_path)\n",
        "\tinfersent.build_vocab_k_words(K=100000)\n",
        "\treturn infersent\n",
        "\n",
        "def get_infersent_vectors(sentences, model):\n",
        "\treturn model.encode(sentences, tokenize=False, verbose=False)\n",
        "\n",
        "def get_user_data_embeddings(comments, model):\n",
        "\t# model = load_infersent_model()\n",
        "\tembedding = get_infersent_vectors(comments, model)\n",
        "\treturn embedding\n",
        "\n",
        "dataEmbeddings = []\n",
        "model = load_infersent_model()\n",
        "\n",
        "start = time.time()\n",
        "for i, name in enumerate(names):\n",
        "\tcomments = list(data[i]['text']) if 'text' in data[i] else []\n",
        "\tif len(comments) >= 1:\n",
        "\t\tprint(i, name)\n",
        "\t\ttry:\n",
        "\t\t\tembeddings = get_user_data_embeddings(data[i]['text'], model)\n",
        "\t\t\tprint(len(embeddings), 'comments')\n",
        "\t\t\tdataEmbeddings.append(embeddings)\n",
        "\t\t\twith open('embeddings/%s.pkl' % name, 'wb') as pkl:\n",
        "\t\t\t\tpickle.dump(embeddings, pkl)\n",
        "\t\texcept:\n",
        "\t\t\tprint('ERROR')\n",
        "\n",
        "print(time.time() - start)"
      ],
      "execution_count": 0,
      "outputs": []
    },
    {
      "cell_type": "markdown",
      "metadata": {
        "id": "H2TyG1kaKWcq",
        "colab_type": "text"
      },
      "source": [
        "## MODEL RUN"
      ]
    },
    {
      "cell_type": "code",
      "metadata": {
        "id": "MHjnF_q1FqaE",
        "colab_type": "code",
        "colab": {}
      },
      "source": [
        "# load labels and user embeddings and create Users data obj\n",
        "import torch\n",
        "from torch.utils.data import DataLoader, Dataset, random_split\n",
        "import torch.nn.functional as F\n",
        "import torch.nn as nn\n",
        "import torch.optim as optim\n",
        "from csv import reader\n",
        "import pickle\n",
        "from os import listdir\n",
        "import random\n",
        "\n",
        "device = torch.device('cuda' if torch.cuda.is_available() else 'cpu')\n",
        "\n",
        "class Users(Dataset):\n",
        "    def __init__(self, embedPath, labelPath): \n",
        "        self.users, self.labels = [], []\n",
        "        users = {}\n",
        "        labels = pickle.load(open(labelPath, 'rb')) # { username: [ depressionPercent, vaderScore ] }\n",
        "        fileList = listdir(embedPath)\n",
        "\n",
        "        for user in fileList: # must download and unzip embeddings.zip first\n",
        "            users[user[:-4]] = pickle.load(open('%s/%s' % (embedPath, user), 'rb'))\n",
        "\n",
        "        intersection = list(set(users.keys()).intersection(set(labels.keys())))\n",
        "        for i in intersection:\n",
        "            userTensor = torch.tensor([users[i]])\n",
        "            if list(userTensor.shape)[1] != 1: # exclude single comment users\n",
        "                self.users.append(userTensor)\n",
        "                self.labels.append(torch.tensor([labels[i][0]]))\n",
        "\n",
        "        print(len(self), self[0])\n",
        "\n",
        "    def __getitem__(self, i):\n",
        "        return self.users[i], self.labels[i] # change to include others\n",
        "    \n",
        "    def __len__(self):\n",
        "        assert len(self.users) == len(self.labels)\n",
        "        return len(self.users)\n",
        "\n",
        "# def my_collate(batch):\n",
        "#     data = [item[0] for item in batch]\n",
        "#     target = [item[1] for item in batch]\n",
        "#     target = torch.Tensor(target)\n",
        "#     return [data, target]\n",
        "\n",
        "train, valid, test = random_split(Users('user_subset', 'labels.pkl'), [4280, 538, 538])\n",
        "\n",
        "# dataloader_params = {'batch_size': 4, 'shuffle': True, 'collate_fn': my_collate}\n",
        "# train, test = DataLoader(train, **dataloader_params), DataLoader(test, **dataloader_params)"
      ],
      "execution_count": 0,
      "outputs": []
    },
    {
      "cell_type": "code",
      "metadata": {
        "id": "LPOBU7jhQ5P5",
        "colab_type": "code",
        "colab": {}
      },
      "source": [
        "def matrix_mul(input, weight, bias=False):\n",
        "    feature_list = []\n",
        "    for feature in input.squeeze(0):\n",
        "        feature = torch.mm(feature.unsqueeze(0), weight)\n",
        "        if isinstance(bias, torch.nn.parameter.Parameter):\n",
        "            feature = feature + bias.expand(feature.size()[0], bias.size()[1])\n",
        "        feature = torch.tanh(feature)#.unsqueeze(0) ?\n",
        "        feature_list.append(feature)\n",
        "\n",
        "    return torch.cat(feature_list, 0)#.squeeze(1) ?\n",
        "\n",
        "def element_wise_mul(input1, input2):\n",
        "    feature_list = []\n",
        "    for feature_1, feature_2 in zip(input1.squeeze(0), input2):\n",
        "        feature = feature_1 * feature_2\n",
        "        feature_list.append(feature.unsqueeze(0))\n",
        "\n",
        "    output = torch.cat(feature_list, 0)\n",
        "    return torch.sum(output, 0).unsqueeze(0)\n",
        "\n",
        "class AN(nn.Module):\n",
        "    def __init__(\n",
        "        self,\n",
        "        # batch_size=4,\n",
        "        embedding_dimension=4096, \n",
        "        hidden_size=128, \n",
        "        # n_layers=1, # multiple?\n",
        "    ):\n",
        "        super(AN, self).__init__()\n",
        "        # self.n_layers = n_layers\n",
        "        self.hidden_size = hidden_size\n",
        "        # self.batch_size = batch_size\n",
        "\n",
        "        self.sent_weight = nn.Parameter(torch.randn(2 * hidden_size, 2 * hidden_size))\n",
        "        self.sent_bias = nn.Parameter(torch.randn(1, 2 * hidden_size))\n",
        "        self.context_weight = nn.Parameter(torch.randn(2 * hidden_size, 1))\n",
        "\n",
        "        self.gru = nn.GRU(embedding_dimension, hidden_size, bidirectional=True)\n",
        "        self.fc = nn.Linear(2 * hidden_size, 1) \n",
        "        self._create_weights(mean=0.005)\n",
        "\n",
        "    def _create_weights(self, mean=0.0, std=0.01):\n",
        "        self.sent_weight.data.normal_(mean, std)\n",
        "        self.sent_bias.data.normal_(mean, std)\n",
        "        self.context_weight.data.normal_(mean, std)\n",
        "\n",
        "    def forward(self, user):\n",
        "        f_output, h_output = self.gru(user)\n",
        "        output = matrix_mul(f_output, self.sent_weight, self.sent_bias)\n",
        "        output = F.dropout(output)\n",
        "        output = matrix_mul(output, self.context_weight)#.permute(1, 0) ?\n",
        "        output = F.softmax(output)\n",
        "        output = element_wise_mul(f_output, output).squeeze(0) # '''output.permute(1, 0) ?'''\n",
        "        output = self.fc(output)\n",
        "        output = F.sigmoid(output)\n",
        "\n",
        "        return output #, h_output\n",
        "\n",
        "class Simple(nn.Module):\n",
        "    def __init__(\n",
        "        self,\n",
        "        embedding_dimension=4096,\n",
        "        hidden_size=128, \n",
        "    ):\n",
        "        super(Simple, self).__init__()\n",
        "\n",
        "        self.gru = nn.GRU(embedding_dimension, hidden_size, bidirectional=True)\n",
        "        self.fc = nn.Linear(4 * hidden_size, 1) \n",
        "\n",
        "    def forward(self, user):\n",
        "        f_output, h_output = self.gru(user)\n",
        "        output = torch.cat([f_output[0][0], f_output[0][-1]], dim=0) # concat start and end\n",
        "        output = F.dropout(output)\n",
        "        output = self.fc(output)\n",
        "        output = F.sigmoid(output)\n",
        "\n",
        "        return output #, h_output"
      ],
      "execution_count": 0,
      "outputs": []
    },
    {
      "cell_type": "code",
      "metadata": {
        "id": "PE5ZZhfhTk_I",
        "colab_type": "code",
        "outputId": "d98efc62-efec-4a0f-9419-9327dc98cba0",
        "colab": {
          "base_uri": "https://localhost:8080/",
          "height": 1000
        }
      },
      "source": [
        "hidden = 128\n",
        "learning = 0.001\n",
        "epochs = 4\n",
        "model = AN(hidden_size=hidden).to(device)\n",
        "optimizer = torch.optim.Adam(model.parameters(), lr=learning)\n",
        "criterion = nn.MSELoss()\n",
        "model.train()\n",
        "\n",
        "train_losses, valid_losses = [], []\n",
        "\n",
        "for epoch in range(epochs):\n",
        "    print('TRAIN', epoch)\n",
        "    train_loss, total = 0, 0\n",
        "    for X, Y in train:\n",
        "        # loss = 0\n",
        "        # X, Y = [x.unsqueeze(0).to(device) for x in X], [y.to(device) for y in Y]\n",
        "        # for x, y in zip(X, Y):\n",
        "        #     pred = model(x)\n",
        "        #     # print(pred, y)\n",
        "        #     if loss == 0:\n",
        "        #         loss = criterion(pred, y)\n",
        "        #     else:\n",
        "        #         loss += criterion(pred, y)\n",
        "        # loss /= 4\n",
        "        X, Y = X.to(device), Y.to(device)\n",
        "        pred = model(X)\n",
        "        loss = criterion(pred, Y)\n",
        "\n",
        "        optimizer.zero_grad()\n",
        "        loss.backward()\n",
        "        optimizer.step()\n",
        "\n",
        "        train_loss += loss.item()\n",
        "        total += 1\n",
        "\n",
        "        if total % 300 == 0:\n",
        "            print(pred.item(), Y.item(), loss.item())\n",
        "\n",
        "    train_losses.append(train_loss / total)\n",
        "    print('TRAIN:', epoch, train_losses[-1])\n",
        "\n",
        "    with torch.no_grad():\n",
        "        print('VALIDATION', epoch)\n",
        "        valid_loss, valid_total = 0, 0\n",
        "        for X, Y in valid:\n",
        "            X, Y = X.to(device), Y.to(device)\n",
        "            pred = model(X)\n",
        "            loss = criterion(pred, Y)\n",
        "\n",
        "            valid_loss += loss.item()\n",
        "            valid_total += 1\n",
        "            \n",
        "            if valid_total % 100 == 0:\n",
        "                print(pred.item(), Y.item(), loss.item())\n",
        "        \n",
        "        valid_losses.append(valid_loss / valid_total)\n",
        "        print('VALID:', epoch, valid_losses[-1])\n",
        "\n",
        "print(train_losses)\n",
        "print(valid_losses)"
      ],
      "execution_count": 0,
      "outputs": [
        {
          "output_type": "stream",
          "text": [
            "TRAIN 0\n"
          ],
          "name": "stdout"
        },
        {
          "output_type": "stream",
          "text": [
            "/usr/local/lib/python3.6/dist-packages/ipykernel_launcher.py:52: UserWarning: Implicit dimension choice for softmax has been deprecated. Change the call to include dim=X as an argument.\n",
            "/usr/local/lib/python3.6/dist-packages/torch/nn/functional.py:1569: UserWarning: nn.functional.sigmoid is deprecated. Use torch.sigmoid instead.\n",
            "  warnings.warn(\"nn.functional.sigmoid is deprecated. Use torch.sigmoid instead.\")\n"
          ],
          "name": "stderr"
        },
        {
          "output_type": "stream",
          "text": [
            "7.290000919005397e-15 0.0 5.314411088542139e-29\n",
            "0.0 0.0 0.0\n",
            "0.0 0.03999999910593033 0.0015999999595806003\n",
            "0.0 0.0 0.0\n",
            "0.0 0.0 0.0\n",
            "2.3008792910876796e-20 0.0 5.294049546280586e-40\n",
            "0.0 0.0 0.0\n",
            "0.0 0.0 0.0\n",
            "0.0 0.0 0.0\n",
            "3.242496424742328e-27 0.0 0.0\n",
            "0.00012832105858251452 0.032258063554763794 0.0010323203168809414\n",
            "1.4211182479428157e-23 0.0555555559694767 0.003086419776082039\n",
            "3.085779826506041e-05 0.0 9.52203760284931e-10\n",
            "0.09287744015455246 0.23999999463558197 0.02164504863321781\n",
            "TRAIN: 0 0.06087874248133393\n",
            "VALIDATION 0\n",
            "1.1616422613321825e-13 0.029999999329447746 0.0008999999845400453\n",
            "0.00014598433335777372 0.0 2.1311425513204085e-08\n",
            "0.00017733631830196828 0.0 3.1448170290104827e-08\n",
            "0.001574213500134647 0.0 2.478148189766216e-06\n",
            "0.508177638053894 0.5 6.687376298941672e-05\n",
            "VALID: 0 0.03343691977139501\n",
            "TRAIN 1\n",
            "0.19935928285121918 0.0 0.03974412381649017\n",
            "0.0006119865574873984 0.0 3.745275591882091e-07\n",
            "5.004243575967848e-06 0.03999999910593033 0.0015995997237041593\n",
            "3.5156234824687744e-16 0.0 1.2359608398331053e-31\n",
            "6.024900578438519e-10 0.0 3.629942789954535e-19\n",
            "1.1367095709147179e-07 0.0 1.2921086116747353e-14\n",
            "7.234929877419916e-10 0.0 5.2344211467145215e-19\n",
            "2.6657232865545666e-07 0.0 7.106080589409924e-14\n",
            "0.04978041723370552 0.0 0.0024780898820608854\n",
            "0.006169158965349197 0.0 3.805852247751318e-05\n",
            "0.0002916226803790778 0.032258063554763794 0.0010218532988801599\n",
            "1.944158157130005e-06 0.0555555559694767 0.003086203709244728\n",
            "0.0003400055575184524 0.0 1.1560378254671377e-07\n",
            "0.058650050312280655 0.23999999463558197 0.03288780525326729\n",
            "TRAIN: 1 0.03430535161517545\n",
            "VALIDATION 1\n",
            "1.0684946579863491e-13 0.029999999329447746 0.0008999999845400453\n",
            "7.189201824076008e-06 0.0 5.168462186011524e-11\n",
            "0.001219386700540781 0.0 1.4869038977849414e-06\n",
            "0.003187796100974083 0.0 1.0162044418393634e-05\n",
            "0.6077399253845215 0.5 0.011607891879975796\n",
            "VALID: 1 0.027588193991591438\n",
            "TRAIN 2\n",
            "0.05001303553581238 0.0 0.002501303795725107\n",
            "0.00011312343121971935 0.0 1.2796911086354612e-08\n",
            "1.4174617035678239e-06 0.03999999910593033 0.0015998866874724627\n",
            "5.3366884016561116e-17 0.0 2.848024263699709e-33\n",
            "2.4656687282187395e-13 0.0 6.07952235013534e-26\n",
            "5.164667027379721e-10 0.0 2.667378560520719e-19\n",
            "2.520814945672356e-10 0.0 6.354508094383196e-20\n",
            "4.5761662477161735e-06 0.0 2.0941297307341955e-11\n",
            "0.20733793079853058 0.0 0.04298901930451393\n",
            "0.00033014549990184605 0.0 1.0899604774294858e-07\n",
            "9.822456195252016e-05 0.032258063554763794 0.0010342552559450269\n",
            "6.019840839144308e-07 0.0555555559694767 0.0030863527208566666\n",
            "0.00030244412482716143 0.0 9.147245094709433e-08\n",
            "0.04088306799530983 0.23999999463558197 0.039647553116083145\n",
            "TRAIN: 2 0.03042605082603403\n",
            "VALIDATION 2\n",
            "2.492583505049606e-13 0.029999999329447746 0.0008999999845400453\n",
            "1.8995672235178063e-06 0.0 3.6083555848137605e-12\n",
            "0.0012996941804885864 0.0 1.6892049643502105e-06\n",
            "0.0045579723082482815 0.0 2.077511089737527e-05\n",
            "0.6272920370101929 0.5 0.01620326191186905\n",
            "VALID: 2 0.026734254257142324\n",
            "TRAIN 3\n",
            "0.1353687047958374 0.0 0.018324686214327812\n",
            "2.13225644074555e-06 0.0 4.546517676229378e-12\n",
            "7.184386419112343e-08 0.03999999910593033 0.0015999942552298307\n",
            "1.0278526646044374e-18 0.0 1.0564811081538373e-36\n",
            "2.934416490178726e-13 0.0 8.610800117583475e-26\n",
            "8.561479433386032e-13 0.0 7.329892892668613e-25\n",
            "7.636301313507232e-11 0.0 5.83130989459487e-21\n",
            "2.623316731842351e-06 0.0 6.881790710205893e-12\n",
            "0.1056552305817604 0.0 0.011163027957081795\n",
            "9.973925625672564e-05 0.0 9.947918933050914e-09\n",
            "5.796671030111611e-05 0.032258063554763794 0.001036846311762929\n",
            "3.526259035879775e-07 0.0555555559694767 0.0030863804277032614\n",
            "4.6529828978236765e-05 0.0 2.165025048128655e-09\n",
            "0.03009124845266342 0.23999999463558197 0.04406168311834335\n",
            "TRAIN: 3 0.028269013604587126\n",
            "VALIDATION 3\n",
            "2.573026954616264e-16 0.029999999329447746 0.0008999999845400453\n",
            "5.135556762070337e-07 0.0 2.637394426116546e-13\n",
            "0.00040480279130861163 0.0 1.6386529466672073e-07\n",
            "0.0005108097684569657 0.0 2.609266118724918e-07\n",
            "0.662060022354126 0.5 0.02626345120370388\n",
            "VALID: 3 0.026374954370656806\n",
            "[0.06087874248133393, 0.03430535161517545, 0.03042605082603403, 0.028269013604587126]\n",
            "[0.03343691977139501, 0.027588193991591438, 0.026734254257142324, 0.026374954370656806]\n"
          ],
          "name": "stdout"
        }
      ]
    },
    {
      "cell_type": "code",
      "metadata": {
        "id": "b5YJeO-HmXz6",
        "colab_type": "code",
        "outputId": "bcf21ce5-d53e-457e-c381-7e031d9f5225",
        "colab": {
          "base_uri": "https://localhost:8080/",
          "height": 279
        }
      },
      "source": [
        "from matplotlib import pyplot as plt\n",
        "\n",
        "plt.xticks(range(len(train_losses)))\n",
        "plt.xlabel('epoch')\n",
        "plt.ylabel('loss')\n",
        "plt.plot(train_losses, '-ro')\n",
        "plt.plot(valid_losses, '-bo')\n",
        "\n",
        "# torch.save(model.state_dict(), 'model_save.pkl')\n",
        "# upload = drive.CreateFile({'title': 'model_save_5-8-20.pkl'}) # change name\n",
        "# upload.SetContentFile('model_save.pkl')\n",
        "# upload.Upload()"
      ],
      "execution_count": 0,
      "outputs": [
        {
          "output_type": "display_data",
          "data": {
            "image/png": "[encoded data removed]",
            "text/plain": [
              "<Figure size 432x288 with 1 Axes>"
            ]
          },
          "metadata": {
            "tags": [],
            "needs_background": "light"
          }
        }
      ]
    },
    {
      "cell_type": "code",
      "metadata": {
        "id": "q5BcxiHTZCdC",
        "colab_type": "code",
        "outputId": "a2976281-15f7-4526-c3d8-7a96a01e0ef2",
        "colab": {
          "base_uri": "https://localhost:8080/",
          "height": 193
        }
      },
      "source": [
        "torch.no_grad()\n",
        "total = 0\n",
        "test_losses = []\n",
        "preds = []\n",
        "\n",
        "for X, Y in test:\n",
        "    # X, Y = [x.unsqueeze(0).to(device) for x in X], [y.to(device) for y in Y]\n",
        "    # for x, y in zip(X, Y):\n",
        "    #     pred = model(x)\n",
        "    #     loss = criterion(pred, y)\n",
        "        \n",
        "    #     # print('pred', pred.item())\n",
        "    #     # print('targ', y.item())\n",
        "    #     # print('loss', loss.item())\n",
        "        \n",
        "    #     total += 1\n",
        "    #     losses.append(loss.item())\n",
        "\n",
        "    X, Y = X.to(device), Y.to(device)\n",
        "    pred = model(X)\n",
        "    loss = criterion(pred, Y)\n",
        "\n",
        "    preds.append(pred)\n",
        "    test_losses.append(loss.item())\n",
        "    total += 1\n",
        "    \n",
        "    if total % 100 == 0:\n",
        "        print(pred.item(), Y.item(), loss.item())\n",
        "\n",
        "test_loss = sum(test_losses) / total\n",
        "print(test_loss)"
      ],
      "execution_count": 0,
      "outputs": [
        {
          "output_type": "stream",
          "text": [
            "/usr/local/lib/python3.6/dist-packages/ipykernel_launcher.py:52: UserWarning: Implicit dimension choice for softmax has been deprecated. Change the call to include dim=X as an argument.\n",
            "/usr/local/lib/python3.6/dist-packages/torch/nn/functional.py:1569: UserWarning: nn.functional.sigmoid is deprecated. Use torch.sigmoid instead.\n",
            "  warnings.warn(\"nn.functional.sigmoid is deprecated. Use torch.sigmoid instead.\")\n"
          ],
          "name": "stderr"
        },
        {
          "output_type": "stream",
          "text": [
            "1.187813058255095e-18 0.0 1.4108998475115147e-36\n",
            "2.2047202718926004e-21 0.0 4.8611043727427904e-42\n",
            "0.1978142261505127 0.0 0.03913046792149544\n",
            "0.6186259984970093 1.0 0.14544612169265747\n",
            "8.536010982253261e-13 0.0 7.286348263738479e-25\n",
            "0.030399615179059477\n"
          ],
          "name": "stdout"
        }
      ]
    },
    {
      "cell_type": "code",
      "metadata": {
        "id": "fjtDvSwfPn1k",
        "colab_type": "code",
        "outputId": "b41d0e9e-898e-423d-dff2-1e6233bcfac1",
        "colab": {
          "base_uri": "https://localhost:8080/",
          "height": 297
        }
      },
      "source": [
        "import numpy as np\n",
        "# preds = [pred.item() for pred in preds]\n",
        "labels = [data[1].item() for data in test]\n",
        "\n",
        "plt.xlabel('label')\n",
        "plt.ylabel('pred')\n",
        "plt.scatter(labels, preds)\n",
        "plt.plot(np.unique(labels), np.poly1d(np.polyfit(labels, preds, 1))(np.unique(labels)))\n",
        "plt.plot(np.unique(labels), np.unique(labels))"
      ],
      "execution_count": 0,
      "outputs": [
        {
          "output_type": "execute_result",
          "data": {
            "text/plain": [
              "[<matplotlib.lines.Line2D at 0x7f4440666198>]"
            ]
          },
          "metadata": {
            "tags": []
          },
          "execution_count": 43
        },
        {
          "output_type": "display_data",
          "data": {
            "image/png": "[encoded data removed]",
            "text/plain": [
              "<Figure size 432x288 with 1 Axes>"
            ]
          },
          "metadata": {
            "tags": [],
            "needs_background": "light"
          }
        }
      ]
    }
  ]
}