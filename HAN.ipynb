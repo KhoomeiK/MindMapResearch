{
  "nbformat": 4,
  "nbformat_minor": 0,
  "metadata": {
    "colab": {
      "name": "HAN.ipynb",
      "provenance": [],
      "collapsed_sections": [],
      "authorship_tag": "ABX9TyPaMpcNS8dA4sFCyKyvGCqP",
      "include_colab_link": true
    },
    "kernelspec": {
      "name": "python3",
      "display_name": "Python 3"
    }
  },
  "cells": [
    {
      "cell_type": "markdown",
      "metadata": {
        "id": "view-in-github",
        "colab_type": "text"
      },
      "source": [
        "<a href=\"https://colab.research.google.com/github/KhoomeiK/MindMapResearch/blob/master/HAN.ipynb\" target=\"_parent\"><img src=\"https://colab.research.google.com/assets/colab-badge.svg\" alt=\"Open In Colab\"/></a>"
      ]
    },
    {
      "cell_type": "code",
      "metadata": {
        "id": "GxzmVEG1dGOd",
        "colab_type": "code",
        "colab": {}
      },
      "source": [
        "import torch\n",
        "from torch.utils.data import DataLoader, Dataset\n",
        "import torch.nn.functional as F\n",
        "import torch.nn as nn\n",
        "import torch.optim as optim\n",
        "from csv import reader\n",
        "\n",
        "device = torch.device('cuda' if torch.cuda.is_available() else 'cpu')"
      ],
      "execution_count": 0,
      "outputs": []
    },
    {
      "cell_type": "code",
      "metadata": {
        "id": "MHjnF_q1FqaE",
        "colab_type": "code",
        "colab": {}
      },
      "source": [
        "class Users(Dataset):\n",
        "    def __init__(self, path): # TODO: data reading\n",
        "      docs = reader(path)\n",
        "      # docs = [[[[infersentVector, ..., sentN], ..., postN], label0], ..., [userN, labelN]]\n",
        "      for u, l in docs: # torchify\n",
        "        self.users.append(u) # [[infersentVector, ..., sentN], ..., postN] (100 posts, each with arbitrary # vector sents)\n",
        "        self.labels.append(l)\n",
        "      \n",
        "      print(len(self), self[0])\n",
        "\n",
        "    def __getitem__(self, i):\n",
        "      return self.users[i], self.labels[i]\n",
        "    \n",
        "    def __len__(self):\n",
        "      assert len(self.users) == len(self.labels)\n",
        "      return len(self.users)"
      ],
      "execution_count": 0,
      "outputs": []
    },
    {
      "cell_type": "code",
      "metadata": {
        "id": "LPOBU7jhQ5P5",
        "colab_type": "code",
        "colab": {}
      },
      "source": [
        "class HAN(nn.Module):\n",
        "    def __init__(\n",
        "        self,\n",
        "        batch_size=16,\n",
        "        embedding_dimension=300, # from glove to infersent?\n",
        "        hidden_size=150, \n",
        "        n_layers=1, # multiple?\n",
        "    ):\n",
        "        super(HAN, self).__init__()\n",
        "        self.n_layers = n_layers\n",
        "        self.hidden_size = hidden_size\n",
        "        self.batch_size = batch_size\n",
        "\n",
        "        '''\n",
        "        GRUforward(sentences)\n",
        "        GRUbackward(sentences)\n",
        "        concat\n",
        "        attention(each sentence state) # basically a post vector\n",
        "        GRUforward(post vectors)\n",
        "        # backward?\n",
        "        attention(each post state)\n",
        "        linear output\n",
        "        '''\n",
        "\n",
        "        self.gru1 = nn.GRU( # pass through sent vecs\n",
        "            embedding_dimension,\n",
        "            hidden_size,\n",
        "            num_layers=n_layers,\n",
        "            bidirectional=True\n",
        "        )\n",
        "\n",
        "        self.mlp1 = nn.Linear(hidden_size * 2, hidden_size) # attention mlp\n",
        "        self.contextW1 = nn.Parameter(torch.Tensor(hidden_size * 2, 1)) # attention weights\n",
        "\n",
        "        self.gru2 = nn.GRU( # pass through post vecs\n",
        "            1, # 1 summed val for each post\n",
        "            hidden_size,\n",
        "            num_layers=n_layers,\n",
        "            bidirectional=True\n",
        "        )\n",
        "\n",
        "        self.mlp2 = nn.Linear(hidden_size * 2, hidden_size) # attention mlp\n",
        "        self.contextW2 = nn.Parameter(torch.Tensor(hidden_size * 2, 1)) # attention weights\n",
        "\n",
        "        # self.classify = nn.Linear() ?\n",
        "    \n",
        "    def init_hidden(self):\n",
        "        pass\n",
        "\n",
        "    def forward(self, user):\n",
        "        postVecs = torch.tensor([])\n",
        "        for post in user:\n",
        "            sentAnnot = self.gru1(post) # tensor of sentence annotations of post\n",
        "            sentU = F.Tanh(self.mlp1(sentAnnot)) # hidden reps of sentAnnots\n",
        "            sentA = F.Softmax(sentU * self.contextW1) # att weights of sents\n",
        "            postVec = torch.sum(sentA * sentAnnot) # total val of post; 1 sum?\n",
        "            torch.cat((postVecs, postVec)) \n",
        "\n",
        "        postAnnot = self.gru2(postVecs)\n",
        "        postU = F.Tanh(self.mlp2(sentAnnot)) # hidden reps of postAnnots\n",
        "        postA = F.Softmax(postU * self.contextW2) # att weights of posts\n",
        "        userVec = torch.sum(postA * postAnnot) # total val of user; 1 sum?\n",
        "\n",
        "        output = F.Softmax(userVec) # classify\n",
        "        \n",
        "        return output"
      ],
      "execution_count": 0,
      "outputs": []
    },
    {
      "cell_type": "code",
      "metadata": {
        "id": "erpO2AIcKU68",
        "colab_type": "code",
        "colab": {}
      },
      "source": [
        "# curl dataset\n",
        "# init Users\n",
        "# data = tqdm_notebook(DataLoader(), leave=False)"
      ],
      "execution_count": 0,
      "outputs": []
    },
    {
      "cell_type": "code",
      "metadata": {
        "id": "PE5ZZhfhTk_I",
        "colab_type": "code",
        "colab": {
          "base_uri": "https://localhost:8080/",
          "height": 236
        },
        "outputId": "1dfaf6c3-5526-46d6-abb5-a29907afb12c"
      },
      "source": [
        "model = HAN().to(device)\n",
        "optimizer = torch.optim.Adam(model.parameters())\n",
        "criterion = nn.MSELoss()\n",
        "losses = []\n",
        "model.train()\n",
        "\n",
        "for epoch in range(4):\n",
        "    total = 0\n",
        "    for X, Y in data:\n",
        "        optimizer.zero_grad()\n",
        "        pred = model(X)\n",
        "        loss = criterion(pred, Y)\n",
        "        loss.backward()\n",
        "        optimizer.step()\n",
        "\n",
        "        total += 1\n",
        "        losses.append(loss.item())\n",
        "        data.set_description(f'Loss: {loss.item():.3f}')\n",
        "    \n",
        "    epoch_loss = sum(losses) / total\n",
        "    train_losses.append(epoch_loss)\n",
        "\n",
        "    tqdm.write(f'Epoch #{epoch + 1}\\tTrain Loss: {epoch_loss:.3f}')"
      ],
      "execution_count": 8,
      "outputs": [
        {
          "output_type": "error",
          "ename": "NameError",
          "evalue": "ignored",
          "traceback": [
            "\u001b[0;31m---------------------------------------------------------------------------\u001b[0m",
            "\u001b[0;31mNameError\u001b[0m                                 Traceback (most recent call last)",
            "\u001b[0;32m<ipython-input-8-e3cbe30f905e>\u001b[0m in \u001b[0;36m<module>\u001b[0;34m()\u001b[0m\n\u001b[1;32m      7\u001b[0m \u001b[0;32mfor\u001b[0m \u001b[0mepoch\u001b[0m \u001b[0;32min\u001b[0m \u001b[0mrange\u001b[0m\u001b[0;34m(\u001b[0m\u001b[0;36m4\u001b[0m\u001b[0;34m)\u001b[0m\u001b[0;34m:\u001b[0m\u001b[0;34m\u001b[0m\u001b[0;34m\u001b[0m\u001b[0m\n\u001b[1;32m      8\u001b[0m     \u001b[0mtotal\u001b[0m \u001b[0;34m=\u001b[0m \u001b[0;36m0\u001b[0m\u001b[0;34m\u001b[0m\u001b[0;34m\u001b[0m\u001b[0m\n\u001b[0;32m----> 9\u001b[0;31m     \u001b[0;32mfor\u001b[0m \u001b[0mX\u001b[0m\u001b[0;34m,\u001b[0m \u001b[0mY\u001b[0m \u001b[0;32min\u001b[0m \u001b[0mdata\u001b[0m\u001b[0;34m:\u001b[0m\u001b[0;34m\u001b[0m\u001b[0;34m\u001b[0m\u001b[0m\n\u001b[0m\u001b[1;32m     10\u001b[0m         \u001b[0moptimizer\u001b[0m\u001b[0;34m.\u001b[0m\u001b[0mzero_grad\u001b[0m\u001b[0;34m(\u001b[0m\u001b[0;34m)\u001b[0m\u001b[0;34m\u001b[0m\u001b[0;34m\u001b[0m\u001b[0m\n\u001b[1;32m     11\u001b[0m         \u001b[0mpred\u001b[0m \u001b[0;34m=\u001b[0m \u001b[0mmodel\u001b[0m\u001b[0;34m(\u001b[0m\u001b[0mX\u001b[0m\u001b[0;34m)\u001b[0m\u001b[0;34m\u001b[0m\u001b[0;34m\u001b[0m\u001b[0m\n",
            "\u001b[0;31mNameError\u001b[0m: name 'data' is not defined"
          ]
        }
      ]
    }
  ]
}