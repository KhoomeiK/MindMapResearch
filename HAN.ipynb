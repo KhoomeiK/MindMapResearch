{
  "nbformat": 4,
  "nbformat_minor": 0,
  "metadata": {
    "colab": {
      "name": "HAN.ipynb",
      "provenance": [],
      "collapsed_sections": [],
      "authorship_tag": "ABX9TyPWUeof5uVpG9k+mFRnG/RO",
      "include_colab_link": true
    },
    "kernelspec": {
      "name": "python3",
      "display_name": "Python 3"
    },
    "accelerator": "GPU"
  },
  "cells": [
    {
      "cell_type": "markdown",
      "metadata": {
        "id": "view-in-github",
        "colab_type": "text"
      },
      "source": [
        "<a href=\"https://colab.research.google.com/github/KhoomeiK/MindMapResearch/blob/master/HAN.ipynb\" target=\"_parent\"><img src=\"https://colab.research.google.com/assets/colab-badge.svg\" alt=\"Open In Colab\"/></a>"
      ]
    },
    {
      "cell_type": "markdown",
      "metadata": {
        "id": "S2R8YqWiKZjD",
        "colab_type": "text"
      },
      "source": [
        "## MODEL DEFINITION"
      ]
    },
    {
      "cell_type": "code",
      "metadata": {
        "id": "GxzmVEG1dGOd",
        "colab_type": "code",
        "colab": {}
      },
      "source": [
        "import torch\n",
        "from torch.utils.data import DataLoader, Dataset\n",
        "import torch.nn.functional as F\n",
        "import torch.nn as nn\n",
        "import torch.optim as optim\n",
        "from csv import reader\n",
        "\n",
        "device = torch.device('cuda' if torch.cuda.is_available() else 'cpu')"
      ],
      "execution_count": 0,
      "outputs": []
    },
    {
      "cell_type": "code",
      "metadata": {
        "id": "MHjnF_q1FqaE",
        "colab_type": "code",
        "colab": {}
      },
      "source": [
        "class Users(Dataset):\n",
        "    def __init__(self, path): # TODO: data reading\n",
        "      docs = reader(path)\n",
        "      # docs = [[[[infersentVector, ..., sentN], ..., postN], label0], ..., [userN, labelN]]\n",
        "      for u, l in docs: # torchify\n",
        "        self.users.append(u) # [[infersentVector, ..., sentN], ..., postN] (100 posts, each with arbitrary # vector sents)\n",
        "        self.labels.append(l)\n",
        "      \n",
        "      print(len(self), self[0])\n",
        "\n",
        "    def __getitem__(self, i):\n",
        "      return self.users[i], self.labels[i]\n",
        "    \n",
        "    def __len__(self):\n",
        "      assert len(self.users) == len(self.labels)\n",
        "      return len(self.users)"
      ],
      "execution_count": 0,
      "outputs": []
    },
    {
      "cell_type": "code",
      "metadata": {
        "id": "LPOBU7jhQ5P5",
        "colab_type": "code",
        "colab": {}
      },
      "source": [
        "class HAN(nn.Module):\n",
        "    def __init__(\n",
        "        self,\n",
        "        batch_size=16,\n",
        "        embedding_dimension=300, # from glove to infersent?\n",
        "        hidden_size=150, \n",
        "        n_layers=1, # multiple?\n",
        "    ):\n",
        "        super(HAN, self).__init__()\n",
        "        self.n_layers = n_layers\n",
        "        self.hidden_size = hidden_size\n",
        "        self.batch_size = batch_size\n",
        "\n",
        "        '''\n",
        "        GRUforward(sentences)\n",
        "        GRUbackward(sentences)\n",
        "        concat\n",
        "        attention(each sentence state) # basically a post vector\n",
        "        GRUforward(post vectors)\n",
        "        # backward?\n",
        "        attention(each post state)\n",
        "        linear output\n",
        "        '''\n",
        "\n",
        "        self.gru1 = nn.GRU( # pass through sent vecs\n",
        "            embedding_dimension,\n",
        "            hidden_size,\n",
        "            num_layers=n_layers,\n",
        "            bidirectional=True\n",
        "        )\n",
        "\n",
        "        # https://www.cc.gatech.edu/~dyang888/docs/naacl16.pdf\n",
        "        self.mlp1 = nn.Linear(hidden_size * 2, hidden_size) # attention mlp\n",
        "        self.contextW1 = nn.Parameter(torch.Tensor(hidden_size * 2, 1)) # attention weights\n",
        "\n",
        "        self.gru2 = nn.GRU( # pass through post vecs\n",
        "            1, # 1 summed val for each post\n",
        "            hidden_size,\n",
        "            num_layers=n_layers,\n",
        "            bidirectional=True\n",
        "        )\n",
        "\n",
        "        self.mlp2 = nn.Linear(hidden_size * 2, hidden_size) # attention mlp\n",
        "        self.contextW2 = nn.Parameter(torch.Tensor(hidden_size * 2, 1)) # attention weights\n",
        "    \n",
        "    def init_hidden(self):\n",
        "        pass\n",
        "\n",
        "    def forward(self, user):\n",
        "        postVecs = torch.tensor([])\n",
        "        for post in user:\n",
        "            sentAnnot = self.gru1(post) # tensor of sentence annotations of post\n",
        "            sentU = F.Tanh(self.mlp1(sentAnnot)) # hidden reps of sentAnnots\n",
        "            sentA = F.Softmax(sentU * self.contextW1) # att weights of sents\n",
        "            postVec = torch.sum(sentA * sentAnnot) # total val of post; 1 sum?\n",
        "            torch.cat((postVecs, postVec))\n",
        "\n",
        "        postAnnot = self.gru2(postVecs)\n",
        "        postU = F.Tanh(self.mlp2(sentAnnot)) # hidden reps of postAnnots\n",
        "        postA = F.Softmax(postU * self.contextW2) # att weights of posts\n",
        "        userVec = torch.sum(postA * postAnnot) # total val of user; 1 sum?\n",
        "\n",
        "        output = F.Softmax(userVec) # classify\n",
        "        \n",
        "        return output"
      ],
      "execution_count": 0,
      "outputs": []
    },
    {
      "cell_type": "markdown",
      "metadata": {
        "id": "IX-Fo7SmKR8j",
        "colab_type": "text"
      },
      "source": [
        "## DATA PREP STUFF"
      ]
    },
    {
      "cell_type": "code",
      "metadata": {
        "id": "erpO2AIcKU68",
        "colab_type": "code",
        "colab": {}
      },
      "source": [
        "!pip install -U -q PyDrive\n",
        "\n",
        "from pydrive.auth import GoogleAuth\n",
        "from pydrive.drive import GoogleDrive\n",
        "from google.colab import auth\n",
        "from oauth2client.client import GoogleCredentials\n",
        "\n",
        "auth.authenticate_user()\n",
        "gauth = GoogleAuth()\n",
        "gauth.credentials = GoogleCredentials.get_application_default()\n",
        "drive = GoogleDrive(gauth)\n",
        "\n",
        "fileId = '1oZb283stxpZn8Dn8i8e2Vh6P8d6Voj4Y'\n",
        "downloaded = drive.CreateFile({'id': fileId}) \n",
        "downloaded.GetContentFile('dataset.zip')  \n",
        "\n",
        "# ! unzip dataset.zip\n",
        "# ! rm -rf cse198f_shiv/data\n",
        "# ! rm -rf cse198f_shiv/diagnostics\n",
        "# ! rm -rf cse198f_shiv/models\n",
        "# ! rm cse198f_shiv/vectors.py\n",
        "# ! ls cse198f_shiv"
      ],
      "execution_count": 0,
      "outputs": []
    },
    {
      "cell_type": "code",
      "metadata": {
        "id": "ZtLDPaK8Lx1F",
        "colab_type": "code",
        "outputId": "ca38c5f8-9722-4d15-f57a-aef70ace5290",
        "colab": {
          "base_uri": "https://localhost:8080/",
          "height": 52
        }
      },
      "source": [
        "from os import listdir\n",
        "from os.path import isfile, join\n",
        "import pandas as pd\n",
        "\n",
        "mypath = 'cse198f_shiv'\n",
        "csvs = [f for f in listdir(mypath) if isfile(join(mypath, f))]\n",
        "print(len(csvs))\n",
        "\n",
        "data = []\n",
        "names = []\n",
        "for csv in csvs:\n",
        "    if csv[-4:] == '.csv':\n",
        "        try:\n",
        "            data.append(pd.read_csv(join(mypath, csv), encoding='CP1252'))\n",
        "            names.append(csv[:-4])\n",
        "        except:\n",
        "            try:\n",
        "                data.append(pd.read_csv(join(mypath, csv), encoding='UTF8'))\n",
        "                names.append(csv[:-4])\n",
        "            except:\n",
        "                continue\n",
        "print(len(data))\n",
        "\n",
        "# pd.reset_option('all')\n",
        "# pd.set_option('display.max_rows', None)\n",
        "# pd.set_option('display.max_columns', None)\n",
        "# pd.set_option('display.width', None)\n",
        "# pd.set_option('display.max_colwidth', -1)"
      ],
      "execution_count": 0,
      "outputs": [
        {
          "output_type": "stream",
          "text": [
            "2052\n",
            "1980\n"
          ],
          "name": "stdout"
        }
      ]
    },
    {
      "cell_type": "code",
      "metadata": {
        "id": "YwXvyU5BKmFt",
        "colab_type": "code",
        "colab": {}
      },
      "source": [
        "# ! ls *\n",
        "# ! mkdir fastText\n",
        "# ! curl https://dl.fbaipublicfiles.com/fasttext/vectors-english/crawl-300d-2M.vec.zip > fastText/crawl-300d-2M.vec.zip\n",
        "# ! unzip fastText/crawl-300d-2M.vec.zip -d fastText/\n",
        "# ! mkdir encoder\n",
        "# ! curl -Lo encoder/infersent2.pkl https://dl.fbaipublicfiles.com/infersent/infersent2.pkl\n",
        "# ! curl https://raw.githubusercontent.com/facebookresearch/InferSent/master/models.py > models.py"
      ],
      "execution_count": 0,
      "outputs": []
    },
    {
      "cell_type": "code",
      "metadata": {
        "id": "YvD3ckkkZXRJ",
        "colab_type": "code",
        "colab": {}
      },
      "source": [
        "import torch, os\n",
        "import numpy as np\n",
        "import tensorflow_hub as hub\n",
        "\n",
        "from absl import logging\n",
        "from models import InferSent\n",
        "# from users_data_clean import get_user_data\n",
        "\n",
        "MODEL_PATH = 'encoder/infersent2.pkl'\n",
        "# USE_MODEL_PATH = 'google_use/4.tar.gz'\n",
        "W2V_PATH = 'fastText/crawl-300d-2M.vec'\n",
        "\n",
        "def load_infersent_model(model_path=MODEL_PATH, word_embeddings_path=W2V_PATH):\n",
        "\tparams_model = {'bsize': 64, 'word_emb_dim': 300, 'enc_lstm_dim': 2048, 'pool_type': 'max', 'dpout_model': 0.0, 'version': 2}\n",
        "\tinfersent = InferSent(params_model).cuda()\n",
        "\tinfersent.load_state_dict(torch.load(model_path))\n",
        "\tinfersent.set_w2v_path(word_embeddings_path)\n",
        "\tinfersent.build_vocab_k_words(K=100000)\n",
        "\treturn infersent\n",
        "\n",
        "def get_infersent_vectors(sentences, model):\n",
        "\treturn model.encode(sentences, tokenize=False, verbose=False)\n",
        " \n",
        "# def load_google_use_model(model_path=USE_MODEL_PATH):\n",
        "# \t# return hub.Module(\"https://tfhub.dev/google/universal_sentence_encoder/1\")\n",
        "# \treturn hub.load(\"https://tfhub.dev/google/universal-sentence-encoder/4\")\n",
        "\n",
        "# def get_google_use_vectors(sentences, model):\n",
        "# \tlogging.set_verbosity(logging.ERROR)\n",
        "# \tmessage_embeddings = model(sentences)\n",
        "# \tresult = np.array(message_embeddings).tolist()\n",
        "# \treturn result\n",
        "\n",
        "def get_user_data_embeddings(data):\n",
        "\tmodel = load_infersent_model()\n",
        "\tembedded = data[:64] # make all\n",
        "\twith open('embeddings.data', 'w') as file:\n",
        "\t\tfor ct, user in enumerate(embedded):\n",
        "\t\t\ttry:\n",
        "\t\t\t\tembeddings = []\n",
        "\t\t\t\tfor sent in list(user['text']):\n",
        "\t\t\t\t\tembedding = get_infersent_vectors(sent, model)\n",
        "\t\t\t\t\tembeddings.append(embedding)\n",
        "\t\t\t\tfile.write('%s %s' % (names[ct], embeddings))\n",
        "\t\t\t\tuser.insert(5, 'embeddings', embeddings, True)\n",
        "\t\t\t\tprint(\"USER\", ct)\n",
        "\t\t\texcept:\n",
        "\t\t\t\tcontinue\n",
        "\t\treturn embedded\n",
        "\t# return [user.insert(5, 'embeddings', [get_infersent_vectors(sent, model) for sent in list(user['text'])], True) for user in embedded]\n",
        "\n",
        "embedded = get_user_data_embeddings(data)\n",
        "print(embedded[0])"
      ],
      "execution_count": 0,
      "outputs": []
    },
    {
      "cell_type": "code",
      "metadata": {
        "id": "rJc96y1iGko-",
        "colab_type": "code",
        "outputId": "20cd2e44-118c-47d5-a92d-78cac95ffa85",
        "colab": {
          "base_uri": "https://localhost:8080/",
          "height": 35
        }
      },
      "source": [
        "# init Users\n",
        "# data = tqdm_notebook(DataLoader(), leave=False)\n",
        "# l = embedded[0]['embeddings'][0][0]\n",
        "# t = torch.FloatTensor(l)"
      ],
      "execution_count": 0,
      "outputs": [
        {
          "output_type": "execute_result",
          "data": {
            "text/plain": [
              "tensor([ 0.0075, -0.0278, -0.0668,  ..., -0.0105, -0.0648,  0.0080])"
            ]
          },
          "metadata": {
            "tags": []
          },
          "execution_count": 37
        }
      ]
    },
    {
      "cell_type": "markdown",
      "metadata": {
        "id": "H2TyG1kaKWcq",
        "colab_type": "text"
      },
      "source": [
        "## MODEL RUN"
      ]
    },
    {
      "cell_type": "code",
      "metadata": {
        "id": "PE5ZZhfhTk_I",
        "colab_type": "code",
        "colab": {}
      },
      "source": [
        "model = HAN().to(device)\n",
        "optimizer = torch.optim.Adam(model.parameters())\n",
        "criterion = nn.MSELoss()\n",
        "losses = []\n",
        "model.train()\n",
        "\n",
        "for epoch in range(4):\n",
        "    total = 0\n",
        "    for X, Y in data:\n",
        "        optimizer.zero_grad()\n",
        "        pred = model(X)\n",
        "        loss = criterion(pred, Y)\n",
        "        loss.backward()\n",
        "        optimizer.step()\n",
        "\n",
        "        total += 1\n",
        "        losses.append(loss.item())\n",
        "        data.set_description(f'Loss: {loss.item():.3f}')\n",
        "    \n",
        "    epoch_loss = sum(losses) / total\n",
        "    train_losses.append(epoch_loss)\n",
        "\n",
        "    tqdm.write(f'Epoch #{epoch + 1}\\tTrain Loss: {epoch_loss:.3f}')"
      ],
      "execution_count": 0,
      "outputs": []
    }
  ]
}